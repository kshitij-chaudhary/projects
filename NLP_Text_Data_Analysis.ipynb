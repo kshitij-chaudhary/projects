{
  "nbformat": 4,
  "nbformat_minor": 0,
  "metadata": {
    "colab": {
      "name": "NLP - Text Data Analysis.ipynb",
      "provenance": []
    },
    "kernelspec": {
      "name": "python3",
      "display_name": "Python 3"
    }
  },
  "cells": [
    {
      "cell_type": "code",
      "metadata": {
        "id": "QDkFCU6zeB4Z"
      },
      "source": [
        "import nltk"
      ],
      "execution_count": 1,
      "outputs": []
    },
    {
      "cell_type": "code",
      "metadata": {
        "colab": {
          "base_uri": "https://localhost:8080/"
        },
        "id": "8pfYEY1Xe6Li",
        "outputId": "4a83ecfe-46df-4c72-d60a-45e2371b9eb6"
      },
      "source": [
        "nltk.download('popular')"
      ],
      "execution_count": 2,
      "outputs": [
        {
          "output_type": "stream",
          "text": [
            "[nltk_data] Downloading collection 'popular'\n",
            "[nltk_data]    | \n",
            "[nltk_data]    | Downloading package cmudict to /root/nltk_data...\n",
            "[nltk_data]    |   Unzipping corpora/cmudict.zip.\n",
            "[nltk_data]    | Downloading package gazetteers to /root/nltk_data...\n",
            "[nltk_data]    |   Unzipping corpora/gazetteers.zip.\n",
            "[nltk_data]    | Downloading package genesis to /root/nltk_data...\n",
            "[nltk_data]    |   Unzipping corpora/genesis.zip.\n",
            "[nltk_data]    | Downloading package gutenberg to /root/nltk_data...\n",
            "[nltk_data]    |   Unzipping corpora/gutenberg.zip.\n",
            "[nltk_data]    | Downloading package inaugural to /root/nltk_data...\n",
            "[nltk_data]    |   Unzipping corpora/inaugural.zip.\n",
            "[nltk_data]    | Downloading package movie_reviews to\n",
            "[nltk_data]    |     /root/nltk_data...\n",
            "[nltk_data]    |   Unzipping corpora/movie_reviews.zip.\n",
            "[nltk_data]    | Downloading package names to /root/nltk_data...\n",
            "[nltk_data]    |   Unzipping corpora/names.zip.\n",
            "[nltk_data]    | Downloading package shakespeare to /root/nltk_data...\n",
            "[nltk_data]    |   Unzipping corpora/shakespeare.zip.\n",
            "[nltk_data]    | Downloading package stopwords to /root/nltk_data...\n",
            "[nltk_data]    |   Unzipping corpora/stopwords.zip.\n",
            "[nltk_data]    | Downloading package treebank to /root/nltk_data...\n",
            "[nltk_data]    |   Unzipping corpora/treebank.zip.\n",
            "[nltk_data]    | Downloading package twitter_samples to\n",
            "[nltk_data]    |     /root/nltk_data...\n",
            "[nltk_data]    |   Unzipping corpora/twitter_samples.zip.\n",
            "[nltk_data]    | Downloading package omw to /root/nltk_data...\n",
            "[nltk_data]    |   Unzipping corpora/omw.zip.\n",
            "[nltk_data]    | Downloading package wordnet to /root/nltk_data...\n",
            "[nltk_data]    |   Unzipping corpora/wordnet.zip.\n",
            "[nltk_data]    | Downloading package wordnet_ic to /root/nltk_data...\n",
            "[nltk_data]    |   Unzipping corpora/wordnet_ic.zip.\n",
            "[nltk_data]    | Downloading package words to /root/nltk_data...\n",
            "[nltk_data]    |   Unzipping corpora/words.zip.\n",
            "[nltk_data]    | Downloading package maxent_ne_chunker to\n",
            "[nltk_data]    |     /root/nltk_data...\n",
            "[nltk_data]    |   Unzipping chunkers/maxent_ne_chunker.zip.\n",
            "[nltk_data]    | Downloading package punkt to /root/nltk_data...\n",
            "[nltk_data]    |   Unzipping tokenizers/punkt.zip.\n",
            "[nltk_data]    | Downloading package snowball_data to\n",
            "[nltk_data]    |     /root/nltk_data...\n",
            "[nltk_data]    | Downloading package averaged_perceptron_tagger to\n",
            "[nltk_data]    |     /root/nltk_data...\n",
            "[nltk_data]    |   Unzipping taggers/averaged_perceptron_tagger.zip.\n",
            "[nltk_data]    | \n",
            "[nltk_data]  Done downloading collection popular\n"
          ],
          "name": "stdout"
        },
        {
          "output_type": "execute_result",
          "data": {
            "text/plain": [
              "True"
            ]
          },
          "metadata": {
            "tags": []
          },
          "execution_count": 2
        }
      ]
    },
    {
      "cell_type": "markdown",
      "metadata": {
        "id": "FhN1-xMkgcJi"
      },
      "source": [
        "### Tokenization\r\n",
        "* Process of breaking down a text paragraph into smaller chunks of sentence or words"
      ]
    },
    {
      "cell_type": "markdown",
      "metadata": {
        "id": "BZHYcoQAgxEq"
      },
      "source": [
        "*Sentence Tokenization*"
      ]
    },
    {
      "cell_type": "code",
      "metadata": {
        "id": "oCM85JgGfmud"
      },
      "source": [
        "from nltk.tokenize import sent_tokenize"
      ],
      "execution_count": 3,
      "outputs": []
    },
    {
      "cell_type": "code",
      "metadata": {
        "id": "ophIhVYAhCib"
      },
      "source": [
        "paragraph = \"\"\"Hello Participants ! The weather is hot. Hot weather is soothing. Topic of day is Natural Language Processing. Natural Language Processing \r\n",
        "is interesting and easy. Show some interest in this topic. natural language processing is also called NLP.\"\"\" "
      ],
      "execution_count": 8,
      "outputs": []
    },
    {
      "cell_type": "code",
      "metadata": {
        "id": "GaeoMYW2hrT9"
      },
      "source": [
        "tokenized_text = sent_tokenize(paragraph)"
      ],
      "execution_count": 9,
      "outputs": []
    },
    {
      "cell_type": "code",
      "metadata": {
        "colab": {
          "base_uri": "https://localhost:8080/"
        },
        "id": "LU-aXydyiCSB",
        "outputId": "a3a1db06-dd38-4de6-eb82-5a071426bfe7"
      },
      "source": [
        "tokenized_text"
      ],
      "execution_count": 10,
      "outputs": [
        {
          "output_type": "execute_result",
          "data": {
            "text/plain": [
              "['Hello Participants !',\n",
              " 'The weather is hot.',\n",
              " 'Hot weather is soothing.',\n",
              " 'Topic of day is Natural Language Processing.',\n",
              " 'Natural Language Processing \\nis interesting and easy.',\n",
              " 'Show some interest in this topic.',\n",
              " 'natural language processing is also called NLP.']"
            ]
          },
          "metadata": {
            "tags": []
          },
          "execution_count": 10
        }
      ]
    },
    {
      "cell_type": "markdown",
      "metadata": {
        "id": "h7JUvMv2igi6"
      },
      "source": [
        "**Word Tokenization**"
      ]
    },
    {
      "cell_type": "code",
      "metadata": {
        "id": "1e9bXqb0iMMV"
      },
      "source": [
        "from nltk.tokenize import word_tokenize"
      ],
      "execution_count": 11,
      "outputs": []
    },
    {
      "cell_type": "code",
      "metadata": {
        "id": "RRbwPLpGivy-"
      },
      "source": [
        "tokenized_words = word_tokenize(paragraph)"
      ],
      "execution_count": 12,
      "outputs": []
    },
    {
      "cell_type": "code",
      "metadata": {
        "colab": {
          "base_uri": "https://localhost:8080/"
        },
        "id": "_JewoLUii0Ru",
        "outputId": "ddadef75-4435-4baa-810d-20e625bf058c"
      },
      "source": [
        "tokenized_words"
      ],
      "execution_count": 13,
      "outputs": [
        {
          "output_type": "execute_result",
          "data": {
            "text/plain": [
              "['Hello',\n",
              " 'Participants',\n",
              " '!',\n",
              " 'The',\n",
              " 'weather',\n",
              " 'is',\n",
              " 'hot',\n",
              " '.',\n",
              " 'Hot',\n",
              " 'weather',\n",
              " 'is',\n",
              " 'soothing',\n",
              " '.',\n",
              " 'Topic',\n",
              " 'of',\n",
              " 'day',\n",
              " 'is',\n",
              " 'Natural',\n",
              " 'Language',\n",
              " 'Processing',\n",
              " '.',\n",
              " 'Natural',\n",
              " 'Language',\n",
              " 'Processing',\n",
              " 'is',\n",
              " 'interesting',\n",
              " 'and',\n",
              " 'easy',\n",
              " '.',\n",
              " 'Show',\n",
              " 'some',\n",
              " 'interest',\n",
              " 'in',\n",
              " 'this',\n",
              " 'topic',\n",
              " '.',\n",
              " 'natural',\n",
              " 'language',\n",
              " 'processing',\n",
              " 'is',\n",
              " 'also',\n",
              " 'called',\n",
              " 'NLP',\n",
              " '.']"
            ]
          },
          "metadata": {
            "tags": []
          },
          "execution_count": 13
        }
      ]
    },
    {
      "cell_type": "markdown",
      "metadata": {
        "id": "ZrowP1N8l3vA"
      },
      "source": [
        "**NLP Tokenization & Removing Punctuations**"
      ]
    },
    {
      "cell_type": "code",
      "metadata": {
        "id": "iWLCySjAi205"
      },
      "source": [
        "paragraph = \"\"\"Hello Participants ! The weather is hot. Hot weather is soothing. Topic of day is Natural Language Processing. Natural Language Processing \r\n",
        "is interesting and easy. Show some interest in this topic. natural language processing is also called NLP.\"\"\""
      ],
      "execution_count": 14,
      "outputs": []
    },
    {
      "cell_type": "code",
      "metadata": {
        "id": "mCWgFPpAmmSF"
      },
      "source": [
        "from nltk.tokenize import RegexpTokenizer\r\n",
        "tokenizer = RegexpTokenizer(r'\\w+')\r\n",
        "new_words = tokenizer.tokenize(paragraph)"
      ],
      "execution_count": 16,
      "outputs": []
    },
    {
      "cell_type": "code",
      "metadata": {
        "colab": {
          "base_uri": "https://localhost:8080/"
        },
        "id": "7g3ylcFznGay",
        "outputId": "e94741c2-a10f-4a84-cd3a-7c4eec070d73"
      },
      "source": [
        "print(new_words)"
      ],
      "execution_count": 17,
      "outputs": [
        {
          "output_type": "stream",
          "text": [
            "['Hello', 'Participants', 'The', 'weather', 'is', 'hot', 'Hot', 'weather', 'is', 'soothing', 'Topic', 'of', 'day', 'is', 'Natural', 'Language', 'Processing', 'Natural', 'Language', 'Processing', 'is', 'interesting', 'and', 'easy', 'Show', 'some', 'interest', 'in', 'this', 'topic', 'natural', 'language', 'processing', 'is', 'also', 'called', 'NLP']\n"
          ],
          "name": "stdout"
        }
      ]
    },
    {
      "cell_type": "markdown",
      "metadata": {
        "id": "cddFYg2SnYwt"
      },
      "source": [
        "*Frequency Distribution*"
      ]
    },
    {
      "cell_type": "code",
      "metadata": {
        "id": "bh7JhIHlnSSC"
      },
      "source": [
        "from nltk.probability import FreqDist\r\n",
        "fdist = FreqDist(new_words)"
      ],
      "execution_count": 18,
      "outputs": []
    },
    {
      "cell_type": "code",
      "metadata": {
        "colab": {
          "base_uri": "https://localhost:8080/"
        },
        "id": "OUcKpS2Mno_O",
        "outputId": "3b344a47-dd77-40c3-a16c-619ddbb804c2"
      },
      "source": [
        "fdist"
      ],
      "execution_count": 19,
      "outputs": [
        {
          "output_type": "execute_result",
          "data": {
            "text/plain": [
              "FreqDist({'Hello': 1,\n",
              "          'Hot': 1,\n",
              "          'Language': 2,\n",
              "          'NLP': 1,\n",
              "          'Natural': 2,\n",
              "          'Participants': 1,\n",
              "          'Processing': 2,\n",
              "          'Show': 1,\n",
              "          'The': 1,\n",
              "          'Topic': 1,\n",
              "          'also': 1,\n",
              "          'and': 1,\n",
              "          'called': 1,\n",
              "          'day': 1,\n",
              "          'easy': 1,\n",
              "          'hot': 1,\n",
              "          'in': 1,\n",
              "          'interest': 1,\n",
              "          'interesting': 1,\n",
              "          'is': 5,\n",
              "          'language': 1,\n",
              "          'natural': 1,\n",
              "          'of': 1,\n",
              "          'processing': 1,\n",
              "          'some': 1,\n",
              "          'soothing': 1,\n",
              "          'this': 1,\n",
              "          'topic': 1,\n",
              "          'weather': 2})"
            ]
          },
          "metadata": {
            "tags": []
          },
          "execution_count": 19
        }
      ]
    },
    {
      "cell_type": "code",
      "metadata": {
        "colab": {
          "base_uri": "https://localhost:8080/",
          "height": 328
        },
        "id": "omyZKr1dntll",
        "outputId": "120d518f-c861-4ebe-f792-4c203c5b00b0"
      },
      "source": [
        "import matplotlib.pyplot as plt\r\n",
        "fdist.plot()\r\n",
        "plt.show()"
      ],
      "execution_count": 20,
      "outputs": [
        {
          "output_type": "display_data",
          "data": {
            "image/png": "[encoded data removed]",
            "text/plain": [
              "<Figure size 432x288 with 1 Axes>"
            ]
          },
          "metadata": {
            "tags": [],
            "needs_background": "light"
          }
        }
      ]
    },
    {
      "cell_type": "markdown",
      "metadata": {
        "id": "GruN7djMo6XQ"
      },
      "source": [
        "**Lowecase Paragraph or Sentence**"
      ]
    },
    {
      "cell_type": "code",
      "metadata": {
        "id": "HGJFxocSoRWE"
      },
      "source": [
        "paragraph = \"\"\"Hello Participants ! The weather is hot. Hot weather is soothing. Topic of day is Natural Language Processing. Natural Language Processing \r\n",
        "is interesting and easy. Show some interest in this topic. natural language processing is also called NLP.\"\"\""
      ],
      "execution_count": 21,
      "outputs": []
    },
    {
      "cell_type": "code",
      "metadata": {
        "id": "p8QRo3WnpEFP"
      },
      "source": [
        "paragraph = paragraph.lower()"
      ],
      "execution_count": 26,
      "outputs": []
    },
    {
      "cell_type": "code",
      "metadata": {
        "colab": {
          "base_uri": "https://localhost:8080/"
        },
        "id": "Jqzp7zUNpIQL",
        "outputId": "22f4d2d2-248a-4156-ce09-617b5c7a8c40"
      },
      "source": [
        "print(paragraph) "
      ],
      "execution_count": 27,
      "outputs": [
        {
          "output_type": "stream",
          "text": [
            "hello participants ! the weather is hot. hot weather is soothing. topic of day is natural language processing. natural language processing \n",
            "is interesting and easy. show some interest in this topic. natural language processing is also called nlp.\n"
          ],
          "name": "stdout"
        }
      ]
    },
    {
      "cell_type": "code",
      "metadata": {
        "id": "H6Cv3mIGpbgV"
      },
      "source": [
        "tokenizer = RegexpTokenizer(r'\\w+')\r\n",
        "new_words = tokenizer.tokenize(paragraph)"
      ],
      "execution_count": 28,
      "outputs": []
    },
    {
      "cell_type": "markdown",
      "metadata": {
        "id": "ThKtgpISqDUT"
      },
      "source": [
        "**Removing Stopwords**"
      ]
    },
    {
      "cell_type": "code",
      "metadata": {
        "colab": {
          "base_uri": "https://localhost:8080/"
        },
        "id": "llRC_SmRp9kd",
        "outputId": "7d664cf5-0737-4e39-9ce2-3d404901a5a5"
      },
      "source": [
        "from nltk.corpus import stopwords\r\n",
        "stop_words = list(stopwords.words(\"english\"))\r\n",
        "stop_words "
      ],
      "execution_count": 29,
      "outputs": [
        {
          "output_type": "execute_result",
          "data": {
            "text/plain": [
              "['i',\n",
              " 'me',\n",
              " 'my',\n",
              " 'myself',\n",
              " 'we',\n",
              " 'our',\n",
              " 'ours',\n",
              " 'ourselves',\n",
              " 'you',\n",
              " \"you're\",\n",
              " \"you've\",\n",
              " \"you'll\",\n",
              " \"you'd\",\n",
              " 'your',\n",
              " 'yours',\n",
              " 'yourself',\n",
              " 'yourselves',\n",
              " 'he',\n",
              " 'him',\n",
              " 'his',\n",
              " 'himself',\n",
              " 'she',\n",
              " \"she's\",\n",
              " 'her',\n",
              " 'hers',\n",
              " 'herself',\n",
              " 'it',\n",
              " \"it's\",\n",
              " 'its',\n",
              " 'itself',\n",
              " 'they',\n",
              " 'them',\n",
              " 'their',\n",
              " 'theirs',\n",
              " 'themselves',\n",
              " 'what',\n",
              " 'which',\n",
              " 'who',\n",
              " 'whom',\n",
              " 'this',\n",
              " 'that',\n",
              " \"that'll\",\n",
              " 'these',\n",
              " 'those',\n",
              " 'am',\n",
              " 'is',\n",
              " 'are',\n",
              " 'was',\n",
              " 'were',\n",
              " 'be',\n",
              " 'been',\n",
              " 'being',\n",
              " 'have',\n",
              " 'has',\n",
              " 'had',\n",
              " 'having',\n",
              " 'do',\n",
              " 'does',\n",
              " 'did',\n",
              " 'doing',\n",
              " 'a',\n",
              " 'an',\n",
              " 'the',\n",
              " 'and',\n",
              " 'but',\n",
              " 'if',\n",
              " 'or',\n",
              " 'because',\n",
              " 'as',\n",
              " 'until',\n",
              " 'while',\n",
              " 'of',\n",
              " 'at',\n",
              " 'by',\n",
              " 'for',\n",
              " 'with',\n",
              " 'about',\n",
              " 'against',\n",
              " 'between',\n",
              " 'into',\n",
              " 'through',\n",
              " 'during',\n",
              " 'before',\n",
              " 'after',\n",
              " 'above',\n",
              " 'below',\n",
              " 'to',\n",
              " 'from',\n",
              " 'up',\n",
              " 'down',\n",
              " 'in',\n",
              " 'out',\n",
              " 'on',\n",
              " 'off',\n",
              " 'over',\n",
              " 'under',\n",
              " 'again',\n",
              " 'further',\n",
              " 'then',\n",
              " 'once',\n",
              " 'here',\n",
              " 'there',\n",
              " 'when',\n",
              " 'where',\n",
              " 'why',\n",
              " 'how',\n",
              " 'all',\n",
              " 'any',\n",
              " 'both',\n",
              " 'each',\n",
              " 'few',\n",
              " 'more',\n",
              " 'most',\n",
              " 'other',\n",
              " 'some',\n",
              " 'such',\n",
              " 'no',\n",
              " 'nor',\n",
              " 'not',\n",
              " 'only',\n",
              " 'own',\n",
              " 'same',\n",
              " 'so',\n",
              " 'than',\n",
              " 'too',\n",
              " 'very',\n",
              " 's',\n",
              " 't',\n",
              " 'can',\n",
              " 'will',\n",
              " 'just',\n",
              " 'don',\n",
              " \"don't\",\n",
              " 'should',\n",
              " \"should've\",\n",
              " 'now',\n",
              " 'd',\n",
              " 'll',\n",
              " 'm',\n",
              " 'o',\n",
              " 're',\n",
              " 've',\n",
              " 'y',\n",
              " 'ain',\n",
              " 'aren',\n",
              " \"aren't\",\n",
              " 'couldn',\n",
              " \"couldn't\",\n",
              " 'didn',\n",
              " \"didn't\",\n",
              " 'doesn',\n",
              " \"doesn't\",\n",
              " 'hadn',\n",
              " \"hadn't\",\n",
              " 'hasn',\n",
              " \"hasn't\",\n",
              " 'haven',\n",
              " \"haven't\",\n",
              " 'isn',\n",
              " \"isn't\",\n",
              " 'ma',\n",
              " 'mightn',\n",
              " \"mightn't\",\n",
              " 'mustn',\n",
              " \"mustn't\",\n",
              " 'needn',\n",
              " \"needn't\",\n",
              " 'shan',\n",
              " \"shan't\",\n",
              " 'shouldn',\n",
              " \"shouldn't\",\n",
              " 'wasn',\n",
              " \"wasn't\",\n",
              " 'weren',\n",
              " \"weren't\",\n",
              " 'won',\n",
              " \"won't\",\n",
              " 'wouldn',\n",
              " \"wouldn't\"]"
            ]
          },
          "metadata": {
            "tags": []
          },
          "execution_count": 29
        }
      ]
    },
    {
      "cell_type": "markdown",
      "metadata": {
        "id": "q8bO_GC7rHPu"
      },
      "source": [
        "**Removing Stopwords**"
      ]
    },
    {
      "cell_type": "code",
      "metadata": {
        "id": "sJYJJhBsqY5F"
      },
      "source": [
        "filtered_sent = []\r\n",
        "for w in new_words:\r\n",
        "    if w not in stop_words:\r\n",
        "        filtered_sent.append(w) "
      ],
      "execution_count": 30,
      "outputs": []
    },
    {
      "cell_type": "code",
      "metadata": {
        "colab": {
          "base_uri": "https://localhost:8080/"
        },
        "id": "231_SkWArabv",
        "outputId": "801a6f74-31b7-4bb3-e61d-7438fcd1d321"
      },
      "source": [
        "filtered_sent "
      ],
      "execution_count": 31,
      "outputs": [
        {
          "output_type": "execute_result",
          "data": {
            "text/plain": [
              "['hello',\n",
              " 'participants',\n",
              " 'weather',\n",
              " 'hot',\n",
              " 'hot',\n",
              " 'weather',\n",
              " 'soothing',\n",
              " 'topic',\n",
              " 'day',\n",
              " 'natural',\n",
              " 'language',\n",
              " 'processing',\n",
              " 'natural',\n",
              " 'language',\n",
              " 'processing',\n",
              " 'interesting',\n",
              " 'easy',\n",
              " 'show',\n",
              " 'interest',\n",
              " 'topic',\n",
              " 'natural',\n",
              " 'language',\n",
              " 'processing',\n",
              " 'also',\n",
              " 'called',\n",
              " 'nlp']"
            ]
          },
          "metadata": {
            "tags": []
          },
          "execution_count": 31
        }
      ]
    },
    {
      "cell_type": "code",
      "metadata": {
        "colab": {
          "base_uri": "https://localhost:8080/",
          "height": 329
        },
        "id": "TqrHm_yereYA",
        "outputId": "d550d991-a649-4aea-8611-dcce74906d54"
      },
      "source": [
        "fdist_new = FreqDist(filtered_sent)\r\n",
        "fdist_new.plot()\r\n",
        "plt.show() "
      ],
      "execution_count": 33,
      "outputs": [
        {
          "output_type": "display_data",
          "data": {
            "image/png": "[encoded data removed]",
            "text/plain": [
              "<Figure size 432x288 with 1 Axes>"
            ]
          },
          "metadata": {
            "tags": [],
            "needs_background": "light"
          }
        }
      ]
    },
    {
      "cell_type": "markdown",
      "metadata": {
        "id": "jMQGpbzDsRyC"
      },
      "source": [
        "*Lexicon Normalization*\r\n",
        "* Lemmitization : Reduces words to their base wordor root word. It reduces words Lingustically Correct Lemmas.\r\n",
        "\r\n",
        "\"going\", \"went\", \"gone\", \"go\" -> root word : \"go\""
      ]
    },
    {
      "cell_type": "code",
      "metadata": {
        "id": "C_cSTQvJr7Ls"
      },
      "source": [
        "# Lemmatization\r\n",
        "from nltk.stem.wordnet import WordNetLemmatizer\r\n",
        "lem = WordNetLemmatizer()"
      ],
      "execution_count": 35,
      "outputs": []
    },
    {
      "cell_type": "code",
      "metadata": {
        "colab": {
          "base_uri": "https://localhost:8080/"
        },
        "id": "6YhzD6HqtFkK",
        "outputId": "00d3f501-8501-4888-e873-9d5d1a214a10"
      },
      "source": [
        "word = \"going\"\r\n",
        "print(\"Lemmatized Word: \", lem.lemmatize(word, \"v\"))      # v : verb"
      ],
      "execution_count": 38,
      "outputs": [
        {
          "output_type": "stream",
          "text": [
            "Lemmatized Word:  go\n"
          ],
          "name": "stdout"
        }
      ]
    },
    {
      "cell_type": "code",
      "metadata": {
        "colab": {
          "base_uri": "https://localhost:8080/"
        },
        "id": "gakoX2mntcPH",
        "outputId": "f231add5-43b4-4e53-fad6-3b600f8a396f"
      },
      "source": [
        "word = \"went\"\r\n",
        "print(\"Lemmatized Word: \", lem.lemmatize(word, \"v\"))      # v : verb"
      ],
      "execution_count": 39,
      "outputs": [
        {
          "output_type": "stream",
          "text": [
            "Lemmatized Word:  go\n"
          ],
          "name": "stdout"
        }
      ]
    },
    {
      "cell_type": "code",
      "metadata": {
        "colab": {
          "base_uri": "https://localhost:8080/"
        },
        "id": "O_bA5GS5tmU_",
        "outputId": "52116b65-f8cc-49af-bdb7-f41d5d2608ac"
      },
      "source": [
        "# Lemmitization has certain limitation e.g.:\r\n",
        "word = \"Twos\"\r\n",
        "print(\"Lemmatized Word: \", lem.lemmatize(word, \"v\"))      # v : verb"
      ],
      "execution_count": 40,
      "outputs": [
        {
          "output_type": "stream",
          "text": [
            "Lemmatized Word:  Twos\n"
          ],
          "name": "stdout"
        }
      ]
    },
    {
      "cell_type": "markdown",
      "metadata": {
        "id": "LZcp9yqpuZHn"
      },
      "source": [
        "**Stemming**\r\n",
        "* Stemming is a process of chopping off affixes from words like 's', 'es', 'ing' etc."
      ]
    },
    {
      "cell_type": "code",
      "metadata": {
        "id": "29HT74LEuLMN"
      },
      "source": [
        "# Stemming \r\n",
        "from nltk.stem import PorterStemmer\r\n",
        "pstem = PorterStemmer()"
      ],
      "execution_count": 43,
      "outputs": []
    },
    {
      "cell_type": "code",
      "metadata": {
        "colab": {
          "base_uri": "https://localhost:8080/",
          "height": 35
        },
        "id": "pUiP3BFJu-WE",
        "outputId": "47d5ea9b-e175-4b4f-ffbf-01d2b90f11e0"
      },
      "source": [
        "words = \"Twos\"\r\n",
        "pstem.stem(words) "
      ],
      "execution_count": 47,
      "outputs": [
        {
          "output_type": "execute_result",
          "data": {
            "application/vnd.google.colaboratory.intrinsic+json": {
              "type": "string"
            },
            "text/plain": [
              "'two'"
            ]
          },
          "metadata": {
            "tags": []
          },
          "execution_count": 47
        }
      ]
    },
    {
      "cell_type": "code",
      "metadata": {
        "colab": {
          "base_uri": "https://localhost:8080/",
          "height": 35
        },
        "id": "8hTz8Jy_vKA8",
        "outputId": "5c22473f-25f5-4f53-979e-ab1bdc7c7305"
      },
      "source": [
        "words = \"walking\"\r\n",
        "pstem.stem(words) "
      ],
      "execution_count": 48,
      "outputs": [
        {
          "output_type": "execute_result",
          "data": {
            "application/vnd.google.colaboratory.intrinsic+json": {
              "type": "string"
            },
            "text/plain": [
              "'walk'"
            ]
          },
          "metadata": {
            "tags": []
          },
          "execution_count": 48
        }
      ]
    },
    {
      "cell_type": "code",
      "metadata": {
        "colab": {
          "base_uri": "https://localhost:8080/",
          "height": 35
        },
        "id": "EKi8g857vZGU",
        "outputId": "c435557e-1c6a-4a63-f8f7-e6189639aad1"
      },
      "source": [
        "words = \"talks\" \r\n",
        "pstem.stem(words) "
      ],
      "execution_count": 49,
      "outputs": [
        {
          "output_type": "execute_result",
          "data": {
            "application/vnd.google.colaboratory.intrinsic+json": {
              "type": "string"
            },
            "text/plain": [
              "'talk'"
            ]
          },
          "metadata": {
            "tags": []
          },
          "execution_count": 49
        }
      ]
    },
    {
      "cell_type": "code",
      "metadata": {
        "colab": {
          "base_uri": "https://localhost:8080/",
          "height": 35
        },
        "id": "EAYb5rbdvhtJ",
        "outputId": "23841e88-ee75-4b5e-a59f-53dcf3e769c4"
      },
      "source": [
        "words = \"flying\"\r\n",
        "pstem.stem(words)  "
      ],
      "execution_count": 50,
      "outputs": [
        {
          "output_type": "execute_result",
          "data": {
            "application/vnd.google.colaboratory.intrinsic+json": {
              "type": "string"
            },
            "text/plain": [
              "'fli'"
            ]
          },
          "metadata": {
            "tags": []
          },
          "execution_count": 50
        }
      ]
    },
    {
      "cell_type": "code",
      "metadata": {
        "colab": {
          "base_uri": "https://localhost:8080/"
        },
        "id": "1-zh-EQUvncn",
        "outputId": "56ba18a0-ad4e-443e-e811-ca7e393a76c3"
      },
      "source": [
        "words = \"flying\"\r\n",
        "print(\"Stemming Word: \", pstem.stem(words))\r\n",
        "print(\"Lemmatized Word: \", lem.lemmatize(words, \"v\"))      # v : verb"
      ],
      "execution_count": 54,
      "outputs": [
        {
          "output_type": "stream",
          "text": [
            "Stemming Word:  fli\n",
            "Lemmatized Word:  fly\n"
          ],
          "name": "stdout"
        }
      ]
    },
    {
      "cell_type": "markdown",
      "metadata": {
        "id": "VX30J4pTxOkq"
      },
      "source": [
        "### POS (Part Of Speech)"
      ]
    },
    {
      "cell_type": "code",
      "metadata": {
        "id": "3dqzIV_KvxMk"
      },
      "source": [
        "'''\r\n",
        "CC coordinating conjunction\r\n",
        "CD cardinal digit\r\n",
        "DT determiner\r\n",
        "EX existential there (like: “there is” … think of it like “there exists”)\r\n",
        "FW foreign word\r\n",
        "IN preposition/subordinating conjunction\r\n",
        "JJ adjective ‘big’\r\n",
        "JJR adjective, comparative ‘bigger’\r\n",
        "JJS adjective, superlative ‘biggest’\r\n",
        "LS list marker 1)\r\n",
        "MD modal could, will\r\n",
        "NN noun, singular ‘desk’\r\n",
        "NNS noun plural ‘desks’\r\n",
        "NNP proper noun, singular ‘Harrison’c\r\n",
        "NNPS proper noun, plural ‘Americans’\r\n",
        "PDT predeterminer ‘all the kids’\r\n",
        "POS possessive ending parent‘s\r\n",
        "PRP personal pronoun I, he, she\r\n",
        "PRP$ possessive pronoun my, his, hers\r\n",
        "RB adverb very, silently,\r\n",
        "RBR adverb, comparative better\r\n",
        "RBS adverb, superlative best\r\n",
        "RP particle give up\r\n",
        "TO to go ‘to‘ the store.\r\n",
        "UH interjection errrrrrrrm\r\n",
        "VB verb, base form take\r\n",
        "VBD verb, past tense took\r\n",
        "VBG verb, gerund/present participle taking\r\n",
        "VBN verb, past participle taken\r\n",
        "VBP verb, sing. present, non-3d take\r\n",
        "VBZ verb, 3rd person sing. present takes\r\n",
        "WDT wh-determiner which\r\n",
        "WP wh-pronoun who, what\r\n",
        "WP$ possessive wh-pronoun whose\r\n",
        "WRB wh-abverb where, when\r\n",
        "'''"
      ],
      "execution_count": 55,
      "outputs": []
    },
    {
      "cell_type": "code",
      "metadata": {
        "id": "hmnUQzsExMit"
      },
      "source": [
        "sentence = \"Natural language processing can do amazing stuff like chatbots\" "
      ],
      "execution_count": 56,
      "outputs": []
    },
    {
      "cell_type": "code",
      "metadata": {
        "id": "cFGjJeZdxh6_"
      },
      "source": [
        "tokens = nltk.word_tokenize(sentence) "
      ],
      "execution_count": 57,
      "outputs": []
    },
    {
      "cell_type": "code",
      "metadata": {
        "colab": {
          "base_uri": "https://localhost:8080/"
        },
        "id": "jtWj4g15xmOx",
        "outputId": "0633c0f6-8261-42d3-ee3a-18c06b5855ad"
      },
      "source": [
        "# plural words , \r\n",
        "# count the adjective \r\n",
        "from nltk import pos_tag\r\n",
        "pos_tag(tokens)"
      ],
      "execution_count": 59,
      "outputs": [
        {
          "output_type": "execute_result",
          "data": {
            "text/plain": [
              "[('Natural', 'JJ'),\n",
              " ('language', 'NN'),\n",
              " ('processing', 'NN'),\n",
              " ('can', 'MD'),\n",
              " ('do', 'VB'),\n",
              " ('amazing', 'JJ'),\n",
              " ('stuff', 'NN'),\n",
              " ('like', 'IN'),\n",
              " ('chatbots', 'NNS')]"
            ]
          },
          "metadata": {
            "tags": []
          },
          "execution_count": 59
        }
      ]
    },
    {
      "cell_type": "code",
      "metadata": {
        "id": "aesUR0rkxsaV"
      },
      "source": [
        ""
      ],
      "execution_count": null,
      "outputs": []
    }
  ]
}