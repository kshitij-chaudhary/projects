{
  "nbformat": 4,
  "nbformat_minor": 0,
  "metadata": {
    "colab": {
      "name": "CNN - Devanagari Image Classification.ipynb",
      "provenance": [],
      "collapsed_sections": []
    },
    "kernelspec": {
      "name": "python3",
      "display_name": "Python 3"
    },
    "accelerator": "GPU"
  },
  "cells": [
    {
      "cell_type": "code",
      "metadata": {
        "id": "rs0eeKmrPeLG"
      },
      "source": [
        "import pandas as pd\r\n",
        "import numpy as np\r\n",
        "import matplotlib.pyplot as plt\r\n",
        "import seaborn as sns\r\n",
        "\r\n",
        "# DeepLearning \r\n",
        "from keras.layers import Dense\r\n",
        "from keras.models import Sequential\r\n",
        "from keras.optimizers import Adam\r\n",
        "\r\n",
        "# Image \r\n",
        "from PIL import Image\r\n",
        "# Computer Vision \r\n",
        "import cv2\r\n",
        "\r\n",
        "# Keras - CNN\r\n",
        "import keras\r\n",
        "from keras.layers import Conv2D, MaxPooling2D, Flatten\r\n",
        "from keras.layers import Dropout, ZeroPadding2D\r\n",
        "# Avoid overfitting of deep learning network\r\n",
        "from keras.layers import BatchNormalization  "
      ],
      "execution_count": 1,
      "outputs": []
    },
    {
      "cell_type": "code",
      "metadata": {
        "id": "R09Lfe14S9Ri"
      },
      "source": [
        "#!unzip \"/content/drive/MyDrive/DL - NLP - 17-02/Devanagari/Devanagari.zip\" -d \"/content/drive/MyDrive/DL - NLP - 17-02/Devanagari/\""
      ],
      "execution_count": 2,
      "outputs": []
    },
    {
      "cell_type": "code",
      "metadata": {
        "id": "v5UUKN85UE4h"
      },
      "source": [
        "# Open Devalagari & display Image \r\n",
        "devanagari_img = Image.open('/content/drive/MyDrive/DL - NLP - 17-02/Devanagari/Devanagari/TRAIN/1/010_09.jpg')\r\n",
        "devanagari_img1 = Image.open('/content/drive/MyDrive/DL - NLP - 17-02/Devanagari/Devanagari/TRAIN/2/010_09.jpg')\r\n",
        "devanagari_img2 = Image.open('/content/drive/MyDrive/DL - NLP - 17-02/Devanagari/Devanagari/TRAIN/3/010_09.jpg')\r\n",
        "devanagari_img3 = Image.open('/content/drive/MyDrive/DL - NLP - 17-02/Devanagari/Devanagari/TRAIN/4/010_09.jpg')\r\n",
        "devanagari_img4 = Image.open('/content/drive/MyDrive/DL - NLP - 17-02/Devanagari/Devanagari/TRAIN/5/010_09.jpg')"
      ],
      "execution_count": 3,
      "outputs": []
    },
    {
      "cell_type": "code",
      "metadata": {
        "colab": {
          "base_uri": "https://localhost:8080/",
          "height": 246
        },
        "id": "XlB_5jbQW6BQ",
        "outputId": "34815851-bf7e-4756-afb7-317b35e90d03"
      },
      "source": [
        "# plot using subplotting\r\n",
        "fig = plt.figure(figsize = (20,6))\r\n",
        "\r\n",
        "# row = 1, columns = 5\r\n",
        "a1 = fig.add_subplot(1, 5, 1)\r\n",
        "img_plot = plt.imshow( devanagari_img, cmap = \"gray\")\r\n",
        "a1.set_title(\"Devanagari Image : Ka\", fontsize = 10)\r\n",
        "\r\n",
        "a2 = fig.add_subplot(1, 5, 2)\r\n",
        "img_plot = plt.imshow( devanagari_img1, cmap = \"gray\")\r\n",
        "a2.set_title(\"Devanagari Image : Kha\", fontsize = 10)\r\n",
        "\r\n",
        "a3 = fig.add_subplot(1, 5, 3)\r\n",
        "img_plot = plt.imshow( devanagari_img2, cmap = \"gray\")\r\n",
        "a3.set_title(\"Devanagari Image : Ga\", fontsize = 10)\r\n",
        "\r\n",
        "a4 = fig.add_subplot(1, 5, 4)\r\n",
        "img_plot = plt.imshow( devanagari_img3, cmap = \"gray\")\r\n",
        "a4.set_title(\"Devanagari Image : Gha\", fontsize = 10)\r\n",
        "\r\n",
        "a5 = fig.add_subplot(1, 5, 5)\r\n",
        "img_plot = plt.imshow( devanagari_img4, cmap = \"gray\")\r\n",
        "a5.set_title(\"Devanagari Image : Nga\", fontsize = 10)\r\n",
        "\r\n",
        "plt.show()"
      ],
      "execution_count": 4,
      "outputs": [
        {
          "output_type": "display_data",
          "data": {
            "image/png": "[encoded data removed]",
            "text/plain": [
              "<Figure size 1440x432 with 5 Axes>"
            ]
          },
          "metadata": {
            "tags": [],
            "needs_background": "light"
          }
        }
      ]
    },
    {
      "cell_type": "markdown",
      "metadata": {
        "id": "kxg5pavGaqWj"
      },
      "source": [
        "**Data Augmentation**\r\n",
        "\r\n",
        "* All RGB Image data will used to form New Samples for Training\r\n",
        "* New Samples will be transformed using Image Data Generator\r\n",
        "* Images will be resampled using Normalization (Divide each pixels by 255) , Shear Range, Zoom Range, Brightness etc."
      ]
    },
    {
      "cell_type": "code",
      "metadata": {
        "id": "G7DEHsplZe4x"
      },
      "source": [
        "from keras.preprocessing.image import load_img\r\n",
        "from keras.preprocessing.image import ImageDataGenerator, img_to_array\r\n",
        "\r\n",
        "from numpy import expand_dims"
      ],
      "execution_count": 5,
      "outputs": []
    },
    {
      "cell_type": "code",
      "metadata": {
        "id": "gc-lKBm5bxQp"
      },
      "source": [
        "img = load_img('/content/drive/MyDrive/DL - NLP - 17-02/Devanagari/Devanagari/TRAIN/1/010_09.jpg')"
      ],
      "execution_count": 6,
      "outputs": []
    },
    {
      "cell_type": "code",
      "metadata": {
        "id": "J4dg80VCcBHw"
      },
      "source": [
        "data = img_to_array(img)\r\n",
        "# axis = 0 : rowwise , axis = 1 : columnwise\r\n",
        "samples = expand_dims(data, axis = 0)"
      ],
      "execution_count": 7,
      "outputs": []
    },
    {
      "cell_type": "code",
      "metadata": {
        "colab": {
          "base_uri": "https://localhost:8080/"
        },
        "id": "qgjXKcD8cL_Y",
        "outputId": "c40c79f1-74ac-4fa8-e59f-9b29977b71dc"
      },
      "source": [
        "# 3 = Its a RGB,  \r\n",
        "samples.shape"
      ],
      "execution_count": 8,
      "outputs": [
        {
          "output_type": "execute_result",
          "data": {
            "text/plain": [
              "(1, 28, 28, 3)"
            ]
          },
          "metadata": {
            "tags": []
          },
          "execution_count": 8
        }
      ]
    },
    {
      "cell_type": "code",
      "metadata": {
        "colab": {
          "base_uri": "https://localhost:8080/",
          "height": 318
        },
        "id": "NhYsqVH_cX0Y",
        "outputId": "44a2329e-783f-43dd-a7c7-4045c5b1dc62"
      },
      "source": [
        "# Brigtness of Image Data \r\n",
        "datagen = ImageDataGenerator(brightness_range=[0.8, 1.5])\r\n",
        "\r\n",
        "IDG = datagen.flow(samples, batch_size = 1)\r\n",
        "\r\n",
        "fig, ax = plt.subplots(1, 5, figsize= (20, 10))\r\n",
        "for i in range(5):\r\n",
        "    fig = plt.figure()\r\n",
        "    batch = IDG.next()\r\n",
        "    image = batch[0].astype('uint8')\r\n",
        "    ax[i].imshow(image)\r\n",
        "\r\n",
        "plt.show()"
      ],
      "execution_count": 9,
      "outputs": [
        {
          "output_type": "display_data",
          "data": {
            "image/png": "[encoded data removed]",
            "text/plain": [
              "<Figure size 1440x720 with 5 Axes>"
            ]
          },
          "metadata": {
            "tags": [],
            "needs_background": "light"
          }
        },
        {
          "output_type": "display_data",
          "data": {
            "text/plain": [
              "<Figure size 432x288 with 0 Axes>"
            ]
          },
          "metadata": {
            "tags": []
          }
        },
        {
          "output_type": "display_data",
          "data": {
            "text/plain": [
              "<Figure size 432x288 with 0 Axes>"
            ]
          },
          "metadata": {
            "tags": []
          }
        },
        {
          "output_type": "display_data",
          "data": {
            "text/plain": [
              "<Figure size 432x288 with 0 Axes>"
            ]
          },
          "metadata": {
            "tags": []
          }
        },
        {
          "output_type": "display_data",
          "data": {
            "text/plain": [
              "<Figure size 432x288 with 0 Axes>"
            ]
          },
          "metadata": {
            "tags": []
          }
        },
        {
          "output_type": "display_data",
          "data": {
            "text/plain": [
              "<Figure size 432x288 with 0 Axes>"
            ]
          },
          "metadata": {
            "tags": []
          }
        }
      ]
    },
    {
      "cell_type": "code",
      "metadata": {
        "colab": {
          "base_uri": "https://localhost:8080/",
          "height": 318
        },
        "id": "8ZY4Q-VNd4bb",
        "outputId": "19a187f2-96d8-45cd-a81c-87eba9d4b86d"
      },
      "source": [
        "# Zoom of Image Data \r\n",
        "datagen = ImageDataGenerator(zoom_range= 0.2)\r\n",
        "\r\n",
        "IDG = datagen.flow(samples, batch_size = 1)\r\n",
        "\r\n",
        "fig, ax = plt.subplots(1, 5, figsize= (20, 10))\r\n",
        "for i in range(5):\r\n",
        "    fig = plt.figure()\r\n",
        "    batch = IDG.next()\r\n",
        "    image = batch[0].astype('uint8')\r\n",
        "    ax[i].imshow(image)\r\n",
        "plt.show()"
      ],
      "execution_count": 10,
      "outputs": [
        {
          "output_type": "display_data",
          "data": {
            "image/png": "[encoded data removed]",
            "text/plain": [
              "<Figure size 1440x720 with 5 Axes>"
            ]
          },
          "metadata": {
            "tags": [],
            "needs_background": "light"
          }
        },
        {
          "output_type": "display_data",
          "data": {
            "text/plain": [
              "<Figure size 432x288 with 0 Axes>"
            ]
          },
          "metadata": {
            "tags": []
          }
        },
        {
          "output_type": "display_data",
          "data": {
            "text/plain": [
              "<Figure size 432x288 with 0 Axes>"
            ]
          },
          "metadata": {
            "tags": []
          }
        },
        {
          "output_type": "display_data",
          "data": {
            "text/plain": [
              "<Figure size 432x288 with 0 Axes>"
            ]
          },
          "metadata": {
            "tags": []
          }
        },
        {
          "output_type": "display_data",
          "data": {
            "text/plain": [
              "<Figure size 432x288 with 0 Axes>"
            ]
          },
          "metadata": {
            "tags": []
          }
        },
        {
          "output_type": "display_data",
          "data": {
            "text/plain": [
              "<Figure size 432x288 with 0 Axes>"
            ]
          },
          "metadata": {
            "tags": []
          }
        }
      ]
    },
    {
      "cell_type": "code",
      "metadata": {
        "colab": {
          "base_uri": "https://localhost:8080/",
          "height": 318
        },
        "id": "IkhjJy8jfPOz",
        "outputId": "30222722-7bb5-4803-cd36-abee735c6e2c"
      },
      "source": [
        "# Shear Range of Image Data \r\n",
        "datagen = ImageDataGenerator(shear_range= 20)\r\n",
        "\r\n",
        "IDG = datagen.flow(samples, batch_size = 1)\r\n",
        "\r\n",
        "fig, ax = plt.subplots(1, 5, figsize= (20, 10))\r\n",
        "for i in range(5):\r\n",
        "    fig = plt.figure()\r\n",
        "    batch = IDG.next()\r\n",
        "    image = batch[0].astype('uint8')\r\n",
        "    ax[i].imshow(image)\r\n",
        "plt.show()"
      ],
      "execution_count": 11,
      "outputs": [
        {
          "output_type": "display_data",
          "data": {
            "image/png": "[encoded data removed]",
            "text/plain": [
              "<Figure size 1440x720 with 5 Axes>"
            ]
          },
          "metadata": {
            "tags": [],
            "needs_background": "light"
          }
        },
        {
          "output_type": "display_data",
          "data": {
            "text/plain": [
              "<Figure size 432x288 with 0 Axes>"
            ]
          },
          "metadata": {
            "tags": []
          }
        },
        {
          "output_type": "display_data",
          "data": {
            "text/plain": [
              "<Figure size 432x288 with 0 Axes>"
            ]
          },
          "metadata": {
            "tags": []
          }
        },
        {
          "output_type": "display_data",
          "data": {
            "text/plain": [
              "<Figure size 432x288 with 0 Axes>"
            ]
          },
          "metadata": {
            "tags": []
          }
        },
        {
          "output_type": "display_data",
          "data": {
            "text/plain": [
              "<Figure size 432x288 with 0 Axes>"
            ]
          },
          "metadata": {
            "tags": []
          }
        },
        {
          "output_type": "display_data",
          "data": {
            "text/plain": [
              "<Figure size 432x288 with 0 Axes>"
            ]
          },
          "metadata": {
            "tags": []
          }
        }
      ]
    },
    {
      "cell_type": "code",
      "metadata": {
        "id": "vvHz94-lfrL8"
      },
      "source": [
        "# Transformation of training samples using data augmentation\r\n",
        "train_datagen = ImageDataGenerator(rescale= 1./255, brightness_range= [0.8, 1.5], \r\n",
        "                                  rotation_range = 20, \r\n",
        "                                  zoom_range = 0.1,\r\n",
        "                                  shear_range = 20)\r\n",
        "# Dont transform test image data \r\n",
        "test_datagen = ImageDataGenerator(rescale = 1./ 255)"
      ],
      "execution_count": 12,
      "outputs": []
    },
    {
      "cell_type": "code",
      "metadata": {
        "id": "O3M4Yn5zgccv"
      },
      "source": [
        "train_folder = \"/content/drive/MyDrive/DL - NLP - 17-02/Devanagari/Devanagari/TRAIN\"\r\n",
        "test_folder = \"/content/drive/MyDrive/DL - NLP - 17-02/Devanagari/Devanagari/TEST\""
      ],
      "execution_count": 13,
      "outputs": []
    },
    {
      "cell_type": "code",
      "metadata": {
        "colab": {
          "base_uri": "https://localhost:8080/"
        },
        "id": "bt4s7O9WhUH7",
        "outputId": "47c38095-fd2c-48cc-998c-a391e425d8a0"
      },
      "source": [
        "# Reshaping image pixels with target size = 64 x 64\r\n",
        "training_set = train_datagen.flow_from_directory(train_folder, target_size=(64, 64), batch_size= 64, \r\n",
        "                                                 class_mode = 'categorical')\r\n",
        "\r\n",
        "test_set = test_datagen.flow_from_directory(test_folder, target_size=(64, 64), batch_size= 64, \r\n",
        "                                                 class_mode = 'categorical')"
      ],
      "execution_count": 14,
      "outputs": [
        {
          "output_type": "stream",
          "text": [
            "Found 6528 images belonging to 48 classes.\n",
            "Found 3312 images belonging to 48 classes.\n"
          ],
          "name": "stdout"
        }
      ]
    },
    {
      "cell_type": "markdown",
      "metadata": {
        "id": "2t-BKP5gNy2i"
      },
      "source": [
        "**CNN Model**"
      ]
    },
    {
      "cell_type": "code",
      "metadata": {
        "id": "lOQFkeLrNDRC"
      },
      "source": [
        "def build_model():\r\n",
        "    model = Sequential()\r\n",
        "    # Conv2D - I\r\n",
        "    model.add(ZeroPadding2D(padding=(1,1), input_shape = training_set.image_shape))\r\n",
        "    model.add(Conv2D(filters = 64, kernel_size=(3,3), activation='relu'))\r\n",
        "    model.add(BatchNormalization())\r\n",
        "    model.add(MaxPooling2D(pool_size=(2,2), strides=(2,2)))\r\n",
        "\r\n",
        "    # Conv2D - II\r\n",
        "    model.add(ZeroPadding2D(padding=(1,1)))\r\n",
        "    model.add(Conv2D(filters = 128, kernel_size=(3,3), activation='relu'))\r\n",
        "    model.add(BatchNormalization())\r\n",
        "    model.add(MaxPooling2D(pool_size=(2,2), strides=(2,2)))\r\n",
        "\r\n",
        "    # Conv2D - III\r\n",
        "    model.add(ZeroPadding2D(padding=(1,1)))\r\n",
        "    model.add(Conv2D(filters = 256, kernel_size=(3,3), activation='relu'))\r\n",
        "    model.add(BatchNormalization())\r\n",
        "    model.add(MaxPooling2D(pool_size=(2,2), strides=(2,2)))\r\n",
        "\r\n",
        "    # Conv2D - IV\r\n",
        "    model.add(ZeroPadding2D(padding=(1,1)))\r\n",
        "    model.add(Conv2D(filters = 512, kernel_size=(3,3), activation='relu'))\r\n",
        "    model.add(BatchNormalization())\r\n",
        "    model.add(MaxPooling2D(pool_size=(2,2), strides=(2,2)))\r\n",
        "\r\n",
        "    # Flatten Matrix\r\n",
        "    model.add(Flatten())\r\n",
        "\r\n",
        "    # Fully Connected Layer (F.C)\r\n",
        "    model.add(Dense(units= 512, activation='relu'))\r\n",
        "    #Output layer - MultiClass Classification\r\n",
        "    model.add(Dense(units= 48, activation='softmax'))\r\n",
        "\r\n",
        "    # learning rate \r\n",
        "    # optimizers for classification\r\n",
        "    optimizers = Adam(learning_rate=0.0001)\r\n",
        "\r\n",
        "    model.compile(optimizer = optimizers, loss = 'categorical_crossentropy', metrics = ['accuracy'])\r\n",
        "    return model"
      ],
      "execution_count": 15,
      "outputs": []
    },
    {
      "cell_type": "code",
      "metadata": {
        "id": "hABM7j2qRp25"
      },
      "source": [
        "model = build_model() "
      ],
      "execution_count": 16,
      "outputs": []
    },
    {
      "cell_type": "code",
      "metadata": {
        "colab": {
          "base_uri": "https://localhost:8080/"
        },
        "id": "kNEJKClURs_X",
        "outputId": "5dce363b-a0f3-4dd1-a8ba-20d48421cc93"
      },
      "source": [
        "model.summary() "
      ],
      "execution_count": 17,
      "outputs": [
        {
          "output_type": "stream",
          "text": [
            "Model: \"sequential\"\n",
            "_________________________________________________________________\n",
            "Layer (type)                 Output Shape              Param #   \n",
            "=================================================================\n",
            "zero_padding2d (ZeroPadding2 (None, 66, 66, 3)         0         \n",
            "_________________________________________________________________\n",
            "conv2d (Conv2D)              (None, 64, 64, 64)        1792      \n",
            "_________________________________________________________________\n",
            "batch_normalization (BatchNo (None, 64, 64, 64)        256       \n",
            "_________________________________________________________________\n",
            "max_pooling2d (MaxPooling2D) (None, 32, 32, 64)        0         \n",
            "_________________________________________________________________\n",
            "zero_padding2d_1 (ZeroPaddin (None, 34, 34, 64)        0         \n",
            "_________________________________________________________________\n",
            "conv2d_1 (Conv2D)            (None, 32, 32, 128)       73856     \n",
            "_________________________________________________________________\n",
            "batch_normalization_1 (Batch (None, 32, 32, 128)       512       \n",
            "_________________________________________________________________\n",
            "max_pooling2d_1 (MaxPooling2 (None, 16, 16, 128)       0         \n",
            "_________________________________________________________________\n",
            "zero_padding2d_2 (ZeroPaddin (None, 18, 18, 128)       0         \n",
            "_________________________________________________________________\n",
            "conv2d_2 (Conv2D)            (None, 16, 16, 256)       295168    \n",
            "_________________________________________________________________\n",
            "batch_normalization_2 (Batch (None, 16, 16, 256)       1024      \n",
            "_________________________________________________________________\n",
            "max_pooling2d_2 (MaxPooling2 (None, 8, 8, 256)         0         \n",
            "_________________________________________________________________\n",
            "zero_padding2d_3 (ZeroPaddin (None, 10, 10, 256)       0         \n",
            "_________________________________________________________________\n",
            "conv2d_3 (Conv2D)            (None, 8, 8, 512)         1180160   \n",
            "_________________________________________________________________\n",
            "batch_normalization_3 (Batch (None, 8, 8, 512)         2048      \n",
            "_________________________________________________________________\n",
            "max_pooling2d_3 (MaxPooling2 (None, 4, 4, 512)         0         \n",
            "_________________________________________________________________\n",
            "flatten (Flatten)            (None, 8192)              0         \n",
            "_________________________________________________________________\n",
            "dense (Dense)                (None, 512)               4194816   \n",
            "_________________________________________________________________\n",
            "dense_1 (Dense)              (None, 48)                24624     \n",
            "=================================================================\n",
            "Total params: 5,774,256\n",
            "Trainable params: 5,772,336\n",
            "Non-trainable params: 1,920\n",
            "_________________________________________________________________\n"
          ],
          "name": "stdout"
        }
      ]
    },
    {
      "cell_type": "code",
      "metadata": {
        "id": "V6GtsWhtRw5_"
      },
      "source": [
        "from keras import callbacks\r\n",
        "\r\n",
        "filepath = \"/content/Best_Model.hdf5\"\r\n",
        "checkpoint = callbacks.ModelCheckpoint(filepath, monitor = 'val_loss', save_best_only = True, mode = 'min', verbose = 1)\r\n",
        "callbacks_list = [checkpoint]"
      ],
      "execution_count": 18,
      "outputs": []
    },
    {
      "cell_type": "code",
      "metadata": {
        "id": "Dg9ZVzGIZsva"
      },
      "source": [
        "batch_size = 64 "
      ],
      "execution_count": 19,
      "outputs": []
    },
    {
      "cell_type": "code",
      "metadata": {
        "colab": {
          "base_uri": "https://localhost:8080/"
        },
        "id": "U-DwEQIfYIuI",
        "outputId": "f6e7d48b-4d62-4c42-acb0-586cb293eb03"
      },
      "source": [
        "history = model.fit_generator(generator= training_set, validation_data= test_set, epochs = 30,\r\n",
        "                              shuffle = True, steps_per_epoch = int(6528/ batch_size), \r\n",
        "                              validation_steps = int(3312/ batch_size), \r\n",
        "                              callbacks= callbacks_list, \r\n",
        "                              verbose = 1)"
      ],
      "execution_count": 20,
      "outputs": [
        {
          "output_type": "stream",
          "text": [
            "/usr/local/lib/python3.7/dist-packages/tensorflow/python/keras/engine/training.py:1844: UserWarning: `Model.fit_generator` is deprecated and will be removed in a future version. Please use `Model.fit`, which supports generators.\n",
            "  warnings.warn('`Model.fit_generator` is deprecated and '\n"
          ],
          "name": "stderr"
        },
        {
          "output_type": "stream",
          "text": [
            "Epoch 1/30\n",
            "102/102 [==============================] - 5526s 54s/step - loss: 3.4253 - accuracy: 0.1932 - val_loss: 4.5466 - val_accuracy: 0.0230\n",
            "\n",
            "Epoch 00001: val_loss improved from inf to 4.54663, saving model to /content/Best_Model.hdf5\n",
            "Epoch 2/30\n",
            "102/102 [==============================] - 30s 291ms/step - loss: 1.3712 - accuracy: 0.6197 - val_loss: 4.9399 - val_accuracy: 0.0331\n",
            "\n",
            "Epoch 00002: val_loss did not improve from 4.54663\n",
            "Epoch 3/30\n",
            "102/102 [==============================] - 30s 290ms/step - loss: 0.9177 - accuracy: 0.7314 - val_loss: 4.5079 - val_accuracy: 0.0812\n",
            "\n",
            "Epoch 00003: val_loss improved from 4.54663 to 4.50788, saving model to /content/Best_Model.hdf5\n",
            "Epoch 4/30\n",
            "102/102 [==============================] - 30s 298ms/step - loss: 0.6750 - accuracy: 0.7953 - val_loss: 2.2870 - val_accuracy: 0.3998\n",
            "\n",
            "Epoch 00004: val_loss improved from 4.50788 to 2.28705, saving model to /content/Best_Model.hdf5\n",
            "Epoch 5/30\n",
            "102/102 [==============================] - 29s 288ms/step - loss: 0.5525 - accuracy: 0.8367 - val_loss: 1.1211 - val_accuracy: 0.6884\n",
            "\n",
            "Epoch 00005: val_loss improved from 2.28705 to 1.12109, saving model to /content/Best_Model.hdf5\n",
            "Epoch 6/30\n",
            "102/102 [==============================] - 30s 290ms/step - loss: 0.4410 - accuracy: 0.8621 - val_loss: 0.6115 - val_accuracy: 0.8168\n",
            "\n",
            "Epoch 00006: val_loss improved from 1.12109 to 0.61153, saving model to /content/Best_Model.hdf5\n",
            "Epoch 7/30\n",
            "102/102 [==============================] - 29s 288ms/step - loss: 0.3713 - accuracy: 0.8873 - val_loss: 0.4710 - val_accuracy: 0.8594\n",
            "\n",
            "Epoch 00007: val_loss improved from 0.61153 to 0.47103, saving model to /content/Best_Model.hdf5\n",
            "Epoch 8/30\n",
            "102/102 [==============================] - 29s 289ms/step - loss: 0.3142 - accuracy: 0.9023 - val_loss: 0.4631 - val_accuracy: 0.8591\n",
            "\n",
            "Epoch 00008: val_loss improved from 0.47103 to 0.46312, saving model to /content/Best_Model.hdf5\n",
            "Epoch 9/30\n",
            "102/102 [==============================] - 30s 292ms/step - loss: 0.2538 - accuracy: 0.9192 - val_loss: 0.4735 - val_accuracy: 0.8508\n",
            "\n",
            "Epoch 00009: val_loss did not improve from 0.46312\n",
            "Epoch 10/30\n",
            "102/102 [==============================] - 30s 290ms/step - loss: 0.2388 - accuracy: 0.9294 - val_loss: 0.6603 - val_accuracy: 0.7960\n",
            "\n",
            "Epoch 00010: val_loss did not improve from 0.46312\n",
            "Epoch 11/30\n",
            "102/102 [==============================] - 30s 290ms/step - loss: 0.2036 - accuracy: 0.9407 - val_loss: 0.4041 - val_accuracy: 0.8811\n",
            "\n",
            "Epoch 00011: val_loss improved from 0.46312 to 0.40414, saving model to /content/Best_Model.hdf5\n",
            "Epoch 12/30\n",
            "102/102 [==============================] - 30s 293ms/step - loss: 0.1730 - accuracy: 0.9458 - val_loss: 0.6051 - val_accuracy: 0.8205\n",
            "\n",
            "Epoch 00012: val_loss did not improve from 0.40414\n",
            "Epoch 13/30\n",
            "102/102 [==============================] - 30s 290ms/step - loss: 0.1806 - accuracy: 0.9483 - val_loss: 0.4051 - val_accuracy: 0.8784\n",
            "\n",
            "Epoch 00013: val_loss did not improve from 0.40414\n",
            "Epoch 14/30\n",
            "102/102 [==============================] - 31s 302ms/step - loss: 0.1584 - accuracy: 0.9523 - val_loss: 0.4439 - val_accuracy: 0.8704\n",
            "\n",
            "Epoch 00014: val_loss did not improve from 0.40414\n",
            "Epoch 15/30\n",
            "102/102 [==============================] - 30s 291ms/step - loss: 0.1414 - accuracy: 0.9586 - val_loss: 0.5172 - val_accuracy: 0.8483\n",
            "\n",
            "Epoch 00015: val_loss did not improve from 0.40414\n",
            "Epoch 16/30\n",
            "102/102 [==============================] - 30s 291ms/step - loss: 0.1158 - accuracy: 0.9645 - val_loss: 0.4199 - val_accuracy: 0.8863\n",
            "\n",
            "Epoch 00016: val_loss did not improve from 0.40414\n",
            "Epoch 17/30\n",
            "102/102 [==============================] - 30s 290ms/step - loss: 0.1084 - accuracy: 0.9680 - val_loss: 0.7496 - val_accuracy: 0.8048\n",
            "\n",
            "Epoch 00017: val_loss did not improve from 0.40414\n",
            "Epoch 18/30\n",
            "102/102 [==============================] - 30s 292ms/step - loss: 0.0838 - accuracy: 0.9720 - val_loss: 0.5605 - val_accuracy: 0.8395\n",
            "\n",
            "Epoch 00018: val_loss did not improve from 0.40414\n",
            "Epoch 19/30\n",
            "102/102 [==============================] - 30s 290ms/step - loss: 0.1098 - accuracy: 0.9641 - val_loss: 0.5336 - val_accuracy: 0.8511\n",
            "\n",
            "Epoch 00019: val_loss did not improve from 0.40414\n",
            "Epoch 20/30\n",
            "102/102 [==============================] - 30s 292ms/step - loss: 0.0951 - accuracy: 0.9719 - val_loss: 0.4578 - val_accuracy: 0.8729\n",
            "\n",
            "Epoch 00020: val_loss did not improve from 0.40414\n",
            "Epoch 21/30\n",
            "102/102 [==============================] - 30s 290ms/step - loss: 0.0864 - accuracy: 0.9695 - val_loss: 0.6190 - val_accuracy: 0.8346\n",
            "\n",
            "Epoch 00021: val_loss did not improve from 0.40414\n",
            "Epoch 22/30\n",
            "102/102 [==============================] - 30s 290ms/step - loss: 0.0768 - accuracy: 0.9758 - val_loss: 0.3673 - val_accuracy: 0.8995\n",
            "\n",
            "Epoch 00022: val_loss improved from 0.40414 to 0.36732, saving model to /content/Best_Model.hdf5\n",
            "Epoch 23/30\n",
            "102/102 [==============================] - 30s 290ms/step - loss: 0.0770 - accuracy: 0.9778 - val_loss: 0.5388 - val_accuracy: 0.8551\n",
            "\n",
            "Epoch 00023: val_loss did not improve from 0.36732\n",
            "Epoch 24/30\n",
            "102/102 [==============================] - 30s 297ms/step - loss: 0.0598 - accuracy: 0.9811 - val_loss: 0.3916 - val_accuracy: 0.8922\n",
            "\n",
            "Epoch 00024: val_loss did not improve from 0.36732\n",
            "Epoch 25/30\n",
            "102/102 [==============================] - 30s 298ms/step - loss: 0.0740 - accuracy: 0.9759 - val_loss: 0.7292 - val_accuracy: 0.8183\n",
            "\n",
            "Epoch 00025: val_loss did not improve from 0.36732\n",
            "Epoch 26/30\n",
            "102/102 [==============================] - 29s 288ms/step - loss: 0.0630 - accuracy: 0.9808 - val_loss: 0.8382 - val_accuracy: 0.7917\n",
            "\n",
            "Epoch 00026: val_loss did not improve from 0.36732\n",
            "Epoch 27/30\n",
            "102/102 [==============================] - 30s 291ms/step - loss: 0.0686 - accuracy: 0.9816 - val_loss: 0.3765 - val_accuracy: 0.9032\n",
            "\n",
            "Epoch 00027: val_loss did not improve from 0.36732\n",
            "Epoch 28/30\n",
            "102/102 [==============================] - 29s 289ms/step - loss: 0.0506 - accuracy: 0.9860 - val_loss: 0.7069 - val_accuracy: 0.8324\n",
            "\n",
            "Epoch 00028: val_loss did not improve from 0.36732\n",
            "Epoch 29/30\n",
            "102/102 [==============================] - 30s 291ms/step - loss: 0.0579 - accuracy: 0.9816 - val_loss: 0.6082 - val_accuracy: 0.8505\n",
            "\n",
            "Epoch 00029: val_loss did not improve from 0.36732\n",
            "Epoch 30/30\n",
            "102/102 [==============================] - 30s 291ms/step - loss: 0.0727 - accuracy: 0.9768 - val_loss: 0.3733 - val_accuracy: 0.9056\n",
            "\n",
            "Epoch 00030: val_loss did not improve from 0.36732\n"
          ],
          "name": "stdout"
        }
      ]
    },
    {
      "cell_type": "code",
      "metadata": {
        "id": "yuGUM-IRZEpr"
      },
      "source": [
        "model.load_weights('/content/Best_Model.hdf5')"
      ],
      "execution_count": 21,
      "outputs": []
    },
    {
      "cell_type": "code",
      "metadata": {
        "colab": {
          "base_uri": "https://localhost:8080/"
        },
        "id": "l14KKeP00CkP",
        "outputId": "a7f19f47-167c-4bc6-aad4-74f871c16da3"
      },
      "source": [
        "model.evaluate_generator(test_set)"
      ],
      "execution_count": 22,
      "outputs": [
        {
          "output_type": "stream",
          "text": [
            "/usr/local/lib/python3.7/dist-packages/tensorflow/python/keras/engine/training.py:1877: UserWarning: `Model.evaluate_generator` is deprecated and will be removed in a future version. Please use `Model.evaluate`, which supports generators.\n",
            "  warnings.warn('`Model.evaluate_generator` is deprecated and '\n"
          ],
          "name": "stderr"
        },
        {
          "output_type": "execute_result",
          "data": {
            "text/plain": [
              "[0.3676639795303345, 0.8997584581375122]"
            ]
          },
          "metadata": {
            "tags": []
          },
          "execution_count": 22
        }
      ]
    },
    {
      "cell_type": "code",
      "metadata": {
        "id": "Glb3TY6f0Lic"
      },
      "source": [
        "import cv2"
      ],
      "execution_count": 23,
      "outputs": []
    },
    {
      "cell_type": "code",
      "metadata": {
        "id": "PTmKZLPQ1wSv"
      },
      "source": [
        "# opencv reads image file - opencv reads image data in BGR Format\r\n",
        "img_new = cv2.imread(\"/content/devanagiri.png\")"
      ],
      "execution_count": 24,
      "outputs": []
    },
    {
      "cell_type": "code",
      "metadata": {
        "colab": {
          "base_uri": "https://localhost:8080/",
          "height": 286
        },
        "id": "8MLn4ukh2IjV",
        "outputId": "25e34f8a-3a62-4e5b-f434-521ca84eed4a"
      },
      "source": [
        "plt.imshow(img_new)"
      ],
      "execution_count": 25,
      "outputs": [
        {
          "output_type": "execute_result",
          "data": {
            "text/plain": [
              "<matplotlib.image.AxesImage at 0x7f52b39e87d0>"
            ]
          },
          "metadata": {
            "tags": []
          },
          "execution_count": 25
        },
        {
          "output_type": "display_data",
          "data": {
            "image/png": "[encoded data removed]",
            "text/plain": [
              "<Figure size 432x288 with 1 Axes>"
            ]
          },
          "metadata": {
            "tags": [],
            "needs_background": "light"
          }
        }
      ]
    },
    {
      "cell_type": "code",
      "metadata": {
        "colab": {
          "base_uri": "https://localhost:8080/"
        },
        "id": "IgiYXiVA2V-j",
        "outputId": "d39fb337-b8e6-4c26-a203-c29b8b48c772"
      },
      "source": [
        "img_new.shape"
      ],
      "execution_count": 26,
      "outputs": [
        {
          "output_type": "execute_result",
          "data": {
            "text/plain": [
              "(490, 538, 3)"
            ]
          },
          "metadata": {
            "tags": []
          },
          "execution_count": 26
        }
      ]
    },
    {
      "cell_type": "code",
      "metadata": {
        "id": "wQ5rv4kj2b4T"
      },
      "source": [
        "# training input shape = 6x64\r\n",
        "img_new = cv2.resize(img_new, (64,64))"
      ],
      "execution_count": 28,
      "outputs": []
    },
    {
      "cell_type": "code",
      "metadata": {
        "id": "rfbmFYke2poU"
      },
      "source": [
        "b, g, r = cv2.split(img_new)"
      ],
      "execution_count": 29,
      "outputs": []
    },
    {
      "cell_type": "code",
      "metadata": {
        "id": "uGSiwdCv3CQ3"
      },
      "source": [
        "img_new = cv2.merge([r, g, b])"
      ],
      "execution_count": 30,
      "outputs": []
    },
    {
      "cell_type": "code",
      "metadata": {
        "id": "spCshhKI3QYL"
      },
      "source": [
        "X_new = np.squeeze(img_new)"
      ],
      "execution_count": 32,
      "outputs": []
    },
    {
      "cell_type": "code",
      "metadata": {
        "id": "ZgTEypbJ3UNn"
      },
      "source": [
        "X_new = X_new.astype('float32')\r\n",
        "X_new /= 255"
      ],
      "execution_count": 34,
      "outputs": []
    },
    {
      "cell_type": "code",
      "metadata": {
        "colab": {
          "base_uri": "https://localhost:8080/"
        },
        "id": "KZ4JrdT63jsp",
        "outputId": "d7baa70c-6e1d-43f1-f07e-1763f2319912"
      },
      "source": [
        "X_new"
      ],
      "execution_count": 35,
      "outputs": [
        {
          "output_type": "execute_result",
          "data": {
            "text/plain": [
              "array([[[1., 1., 1.],\n",
              "        [1., 1., 1.],\n",
              "        [1., 1., 1.],\n",
              "        ...,\n",
              "        [1., 1., 1.],\n",
              "        [1., 1., 1.],\n",
              "        [1., 1., 1.]],\n",
              "\n",
              "       [[1., 1., 1.],\n",
              "        [1., 1., 1.],\n",
              "        [1., 1., 1.],\n",
              "        ...,\n",
              "        [1., 1., 1.],\n",
              "        [1., 1., 1.],\n",
              "        [1., 1., 1.]],\n",
              "\n",
              "       [[1., 1., 1.],\n",
              "        [1., 1., 1.],\n",
              "        [1., 1., 1.],\n",
              "        ...,\n",
              "        [1., 1., 1.],\n",
              "        [1., 1., 1.],\n",
              "        [1., 1., 1.]],\n",
              "\n",
              "       ...,\n",
              "\n",
              "       [[1., 1., 1.],\n",
              "        [1., 1., 1.],\n",
              "        [1., 1., 1.],\n",
              "        ...,\n",
              "        [1., 1., 1.],\n",
              "        [1., 1., 1.],\n",
              "        [1., 1., 1.]],\n",
              "\n",
              "       [[1., 1., 1.],\n",
              "        [1., 1., 1.],\n",
              "        [1., 1., 1.],\n",
              "        ...,\n",
              "        [1., 1., 1.],\n",
              "        [1., 1., 1.],\n",
              "        [1., 1., 1.]],\n",
              "\n",
              "       [[1., 1., 1.],\n",
              "        [1., 1., 1.],\n",
              "        [1., 1., 1.],\n",
              "        ...,\n",
              "        [1., 1., 1.],\n",
              "        [1., 1., 1.],\n",
              "        [1., 1., 1.]]], dtype=float32)"
            ]
          },
          "metadata": {
            "tags": []
          },
          "execution_count": 35
        }
      ]
    },
    {
      "cell_type": "code",
      "metadata": {
        "id": "qyzC_Z393qdc"
      },
      "source": [
        "# 1 - number of images\r\n",
        "X_new = X_new.reshape(1, 64, 64, 3)"
      ],
      "execution_count": 37,
      "outputs": []
    },
    {
      "cell_type": "code",
      "metadata": {
        "colab": {
          "base_uri": "https://localhost:8080/"
        },
        "id": "6TK92h7H300Y",
        "outputId": "7354f8fe-0fbc-45e6-fe6c-4266285a3994"
      },
      "source": [
        "np.argmax(model.predict(X_new))"
      ],
      "execution_count": 39,
      "outputs": [
        {
          "output_type": "execute_result",
          "data": {
            "text/plain": [
              "0"
            ]
          },
          "metadata": {
            "tags": []
          },
          "execution_count": 39
        }
      ]
    },
    {
      "cell_type": "code",
      "metadata": {
        "colab": {
          "base_uri": "https://localhost:8080/",
          "height": 281
        },
        "id": "yXAfCCJi4GBQ",
        "outputId": "998c8fdc-1d96-452f-ee1c-a601e8f113df"
      },
      "source": [
        "dict_label = {0 : 'Ka', 11: 'Kha'}\r\n",
        "predicted_new = np.argmax(model.predict(X_new))\r\n",
        "plt.imshow(img_new)\r\n",
        "plt.title(\"Target: %s\" %dict_label[predicted_new])\r\n",
        "plt.show()"
      ],
      "execution_count": 41,
      "outputs": [
        {
          "output_type": "display_data",
          "data": {
            "image/png": "[encoded data removed]",
            "text/plain": [
              "<Figure size 432x288 with 1 Axes>"
            ]
          },
          "metadata": {
            "tags": [],
            "needs_background": "light"
          }
        }
      ]
    },
    {
      "cell_type": "code",
      "metadata": {
        "id": "RQMIqF3x4NN9"
      },
      "source": [
        ""
      ],
      "execution_count": null,
      "outputs": []
    }
  ]
}